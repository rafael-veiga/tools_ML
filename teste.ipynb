{
 "cells": [
  {
   "cell_type": "code",
   "execution_count": 1,
   "id": "02838d9f-c0dd-4a3b-bfe1-d0e953e3bef2",
   "metadata": {},
   "outputs": [],
   "source": [
    "import pandas as pd\n",
    "import numpy as np\n",
    "import plotly.express as px\n",
    "from sklearn.preprocessing import StandardScaler\n",
    "from sklearn.model_selection import KFold\n",
    "import torch\n",
    "from torch.utils.tensorboard import SummaryWriter\n",
    "import time\n",
    "%load_ext tensorboard\n",
    "\n",
    "#from \"Tools.py\" import \n",
    "seed=42\n",
    "class ANN:\n",
    "    def __init__(self,model,seed=0,n_epoch=10,batch_size=64,lr=0.001, device = \"cpu\",dtype = torch.float):\n",
    "        self.seed = seed\n",
    "        self.model = model\n",
    "        self.batch_size = batch_size\n",
    "        self.lr = lr\n",
    "        self.scale_x = StandardScaler()\n",
    "        self.scale_y = StandardScaler()\n",
    "        self.device = device\n",
    "        self.n_epoch = n_epoch\n",
    "        self.losses = []\n",
    "        self.losses_test = None\n",
    "        self.optim = torch.optim.Adam(model.parameters(),lr=self.lr)\n",
    "        self.loss_fn = torch.nn.MSELoss(reduction=\"mean\")\n",
    "        self.model = self.model.to(dtype)\n",
    "        self.model = self.model.to(device)\n",
    "        self.dtype = dtype\n",
    "\n",
    "    def fit(self, x, y,test=False,x_test=None,y_test=None):\n",
    "        x_ = x.copy()\n",
    "        y_ = y.copy()\n",
    "        x_ = self.scale_x.fit_transform(np.array(x_))\n",
    "        y_ = self.scale_y.fit_transform(np.array(y_).reshape(-1, 1)).reshape(len(y_))\n",
    "        x_ = torch.as_tensor(x_,dtype=self.dtype)\n",
    "        y_ = torch.as_tensor(y_,dtype=self.dtype)\n",
    "        torch.manual_seed = self.seed\n",
    "        writer = SummaryWriter(\"runs/fit\")\n",
    "        writer.add_graph(self.model,x_.to(self.device))\n",
    "        if test:\n",
    "            self.losses_test = []\n",
    "            x_t = x_test.copy()\n",
    "            y_t = y_test.copy()\n",
    "            x_t = self.scale_x.transform(np.array(x_t))\n",
    "            y_t = self.scale_y.transform(np.array(y_t).reshape(-1, 1)).reshape(len(y_t))\n",
    "            x_t = torch.as_tensor(x_t,dtype=self.dtype)\n",
    "            y_t = torch.as_tensor(y_t,dtype=self.dtype)\n",
    "        for epoch in range(self.n_epoch):\n",
    "            self._train(x_,y_)\n",
    "            #print(epoch)\n",
    "            if test:\n",
    "                self._test(x_t,y_t)\n",
    "        return self\n",
    "    \n",
    "    def _train(self,x,y):\n",
    "        self.model.train()\n",
    "        train = torch.utils.data.TensorDataset(x,y)\n",
    "        train_loader = torch.utils.data.DataLoader(dataset=train,batch_size=self.batch_size,shuffle=True)\n",
    "        mini =[]\n",
    "        for x_batch,y_batch in train_loader:\n",
    "            x_batch = x_batch.to(self.device)\n",
    "            y_batch = y_batch.to(self.device)\n",
    "            yhat = self.model(x_batch)\n",
    "            loss = self.loss_fn(yhat.view(len(yhat)),y_batch)\n",
    "            mini.append(loss.item())\n",
    "            loss.backward()\n",
    "            self.optim.step()\n",
    "            self.optim.zero_grad()\n",
    "        self.losses.append(np.mean(mini))\n",
    "        return\n",
    "    \n",
    "    def _test(self,x,y):\n",
    "        self.model.eval()\n",
    "        test = torch.utils.data.TensorDataset(x,y)\n",
    "        test_loader = torch.utils.data.DataLoader(dataset=test,batch_size=self.batch_size,shuffle=False)\n",
    "        mini =[]\n",
    "        for x_batch,y_batch in test_loader:\n",
    "            with torch.no_grad():\n",
    "                x_batch = x_batch.to(self.device)\n",
    "                y_batch = y_batch.to(self.device)\n",
    "                yhat = self.model(x_batch)\n",
    "                loss = self.loss_fn(yhat.view(len(yhat)),y_batch)\n",
    "                mini.append(loss.item())\n",
    "        self.losses_test.append(np.mean(mini))\n",
    "        return\n",
    "\n",
    "    def predict(self, x): \n",
    "        return self.model.predict(x)\n",
    "    \n",
    "    def predict_proba(self,x):\n",
    "        return self.model.predict_proba(x)"
   ]
  },
  {
   "cell_type": "markdown",
   "id": "8680be20-4857-40f6-b6d3-4defcee75fd0",
   "metadata": {},
   "source": [
    "### load dataset"
   ]
  },
  {
   "cell_type": "code",
   "execution_count": 2,
   "id": "776ca380-eedd-4e72-91e5-f18a98cc5a4c",
   "metadata": {},
   "outputs": [],
   "source": [
    "banco = pd.read_csv(\"Life_Expectancy_Data.csv\")\n",
    "x = banco[[\"infant deaths\",\"Year\"]]\n",
    "#x = banco[\"infant deaths\"]\n",
    "y =banco[\"Life expectancy \"]\n",
    "x = x[~y.isna()]\n",
    "y = y[~y.isna()]"
   ]
  },
  {
   "cell_type": "markdown",
   "id": "f11e44f5-fc51-457f-93a5-1d933a685cec",
   "metadata": {},
   "source": [
    "### create folders"
   ]
  },
  {
   "cell_type": "code",
   "execution_count": 3,
   "id": "22661d10-7e4e-45ca-825e-5722024fddf4",
   "metadata": {},
   "outputs": [],
   "source": [
    "cv = KFold(n_splits=10,shuffle =True,random_state=seed)\n",
    "cross = cv.split(x)\n",
    "x_train = []\n",
    "x_test = []\n",
    "y_train = []\n",
    "y_test = []\n",
    "for train_i,test_i in cross:\n",
    "    x_train.append(x.iloc[train_i,:])\n",
    "    x_test.append(x.iloc[test_i,:])\n",
    "    y_train.append(y.iloc[train_i])\n",
    "    y_test.append(y.iloc[test_i])"
   ]
  },
  {
   "cell_type": "markdown",
   "id": "2dcd227a-d810-4ed4-816b-18698dfd703c",
   "metadata": {},
   "source": [
    "### define model"
   ]
  },
  {
   "cell_type": "code",
   "execution_count": 4,
   "id": "327b9bbb-ed3e-4567-b8da-040dcfb8a6e9",
   "metadata": {},
   "outputs": [],
   "source": [
    "x = x_train[0]\n",
    "y = y_train[0]\n",
    "model = torch.nn.Linear(2,1)\n",
    "ann = ANN(model,device=\"cpu\",dtype=torch.float,n_epoch=1000,lr=0.0001)\n",
    "start = time.time()\n",
    "a = ann.fit(x,y,True,x_test[0],y_test[0])\n",
    "tempo = time.time() - start"
   ]
  },
  {
   "cell_type": "code",
   "execution_count": 5,
   "id": "0489e353-1608-4e4e-b0e9-b3aedc7cab68",
   "metadata": {},
   "outputs": [
    {
     "data": {
      "text/plain": [
       "43.942845821380615"
      ]
     },
     "execution_count": 5,
     "metadata": {},
     "output_type": "execute_result"
    }
   ],
   "source": [
    "tempo"
   ]
  },
  {
   "cell_type": "code",
   "execution_count": 93,
   "id": "63014354-9eb0-4322-bc5f-1fee05fb2ea8",
   "metadata": {},
   "outputs": [
    {
     "data": {
      "text/plain": [
       "100.00889277458191"
      ]
     },
     "execution_count": 93,
     "metadata": {},
     "output_type": "execute_result"
    }
   ],
   "source": [
    "tempo"
   ]
  },
  {
   "cell_type": "code",
   "execution_count": 64,
   "id": "871cc984-afe0-40b0-81fd-822114331fb7",
   "metadata": {},
   "outputs": [
    {
     "data": {
      "text/plain": [
       "0.009779499999240215"
      ]
     },
     "execution_count": 64,
     "metadata": {},
     "output_type": "execute_result"
    }
   ],
   "source": []
  },
  {
   "cell_type": "code",
   "execution_count": 88,
   "id": "6a40e9e9-17b8-4d16-9663-3995379f704e",
   "metadata": {},
   "outputs": [
    {
     "data": {
      "text/plain": [
       "0.014215900000635884"
      ]
     },
     "execution_count": 88,
     "metadata": {},
     "output_type": "execute_result"
    }
   ],
   "source": [
    "timeit.timeit()"
   ]
  },
  {
   "cell_type": "code",
   "execution_count": 7,
   "id": "3dd4c504-4946-49b1-8d64-1b3e36adaa97",
   "metadata": {},
   "outputs": [
    {
     "ename": "NameError",
     "evalue": "name 'a' is not defined",
     "output_type": "error",
     "traceback": [
      "\u001b[1;31m---------------------------------------------------------------------------\u001b[0m",
      "\u001b[1;31mNameError\u001b[0m                                 Traceback (most recent call last)",
      "\u001b[1;32m~\\AppData\\Local\\Temp\\ipykernel_7084\\144145427.py\u001b[0m in \u001b[0;36m<cell line: 1>\u001b[1;34m()\u001b[0m\n\u001b[1;32m----> 1\u001b[1;33m \u001b[0ma\u001b[0m\u001b[1;33m.\u001b[0m\u001b[0mmodel\u001b[0m\u001b[1;33m\u001b[0m\u001b[1;33m\u001b[0m\u001b[0m\n\u001b[0m",
      "\u001b[1;31mNameError\u001b[0m: name 'a' is not defined"
     ]
    }
   ],
   "source": [
    "a.model"
   ]
  },
  {
   "cell_type": "code",
   "execution_count": 98,
   "id": "36bf9b0c-fbbc-4375-9ced-283e44a894eb",
   "metadata": {},
   "outputs": [
    {
     "data": {
      "text/plain": [
       "0.3163611590862274"
      ]
     },
     "execution_count": 98,
     "metadata": {},
     "output_type": "execute_result"
    }
   ],
   "source": [
    "a.loss_fn(a.model(a.x).view(len(a.x)),a.y).item()"
   ]
  },
  {
   "cell_type": "code",
   "execution_count": 8,
   "id": "de4a601d-61d3-48bf-9354-d1ca75b4e006",
   "metadata": {},
   "outputs": [
    {
     "ename": "NameError",
     "evalue": "name 'tempfile' is not defined",
     "output_type": "error",
     "traceback": [
      "\u001b[1;31m---------------------------------------------------------------------------\u001b[0m",
      "\u001b[1;31mNameError\u001b[0m                                 Traceback (most recent call last)",
      "\u001b[1;32m~\\AppData\\Local\\Temp\\ipykernel_9764\\1248669633.py\u001b[0m in \u001b[0;36m<cell line: 1>\u001b[1;34m()\u001b[0m\n\u001b[1;32m----> 1\u001b[1;33m \u001b[0mtempfile\u001b[0m\u001b[1;33m.\u001b[0m\u001b[0mgettempdir\u001b[0m\u001b[1;33m(\u001b[0m\u001b[1;33m)\u001b[0m\u001b[1;33m\u001b[0m\u001b[1;33m\u001b[0m\u001b[0m\n\u001b[0m",
      "\u001b[1;31mNameError\u001b[0m: name 'tempfile' is not defined"
     ]
    }
   ],
   "source": []
  },
  {
   "cell_type": "code",
   "execution_count": 7,
   "id": "472fd6ef-938d-40a3-af11-286ec7c9cbf9",
   "metadata": {},
   "outputs": [
    {
     "data": {
      "text/plain": [
       "Reusing TensorBoard on port 6006 (pid 5692), started 19:45:57 ago. (Use '!kill 5692' to kill it.)"
      ]
     },
     "metadata": {},
     "output_type": "display_data"
    },
    {
     "data": {
      "text/html": [
       "\n",
       "      <iframe id=\"tensorboard-frame-7f60b0606d1d150e\" width=\"100%\" height=\"800\" frameborder=\"0\">\n",
       "      </iframe>\n",
       "      <script>\n",
       "        (function() {\n",
       "          const frame = document.getElementById(\"tensorboard-frame-7f60b0606d1d150e\");\n",
       "          const url = new URL(\"/\", window.location);\n",
       "          const port = 6006;\n",
       "          if (port) {\n",
       "            url.port = port;\n",
       "          }\n",
       "          frame.src = url;\n",
       "        })();\n",
       "      </script>\n",
       "    "
      ],
      "text/plain": [
       "<IPython.core.display.HTML object>"
      ]
     },
     "metadata": {},
     "output_type": "display_data"
    }
   ],
   "source": [
    "%tensorboard --logdir runs"
   ]
  }
 ],
 "metadata": {
  "kernelspec": {
   "display_name": "Python 3 (ipykernel)",
   "language": "python",
   "name": "python3"
  },
  "language_info": {
   "codemirror_mode": {
    "name": "ipython",
    "version": 3
   },
   "file_extension": ".py",
   "mimetype": "text/x-python",
   "name": "python",
   "nbconvert_exporter": "python",
   "pygments_lexer": "ipython3",
   "version": "3.9.15"
  }
 },
 "nbformat": 4,
 "nbformat_minor": 5
}
