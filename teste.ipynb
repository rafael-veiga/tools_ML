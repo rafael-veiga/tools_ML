{
 "cells": [
  {
   "cell_type": "code",
   "execution_count": 79,
   "id": "02838d9f-c0dd-4a3b-bfe1-d0e953e3bef2",
   "metadata": {},
   "outputs": [],
   "source": [
    "import pandas as pd\n",
    "import numpy as np\n",
    "import plotly.express as px\n",
    "from sklearn.preprocessing import StandardScaler\n",
    "from sklearn.model_selection import KFold\n",
    "import torch\n",
    "#from \"Tools.py\" import \n",
    "seed=42"
   ]
  },
  {
   "cell_type": "markdown",
   "id": "8680be20-4857-40f6-b6d3-4defcee75fd0",
   "metadata": {},
   "source": [
    "### load dataset"
   ]
  },
  {
   "cell_type": "code",
   "execution_count": 72,
   "id": "776ca380-eedd-4e72-91e5-f18a98cc5a4c",
   "metadata": {},
   "outputs": [],
   "source": [
    "banco = pd.read_csv(\"Life_Expectancy_Data.csv\")\n",
    "#x = banco[[\"infant deaths\",\"Year\"]]\n",
    "x = banco[\"infant deaths\"]\n",
    "y =banco[\"Life expectancy \"]"
   ]
  },
  {
   "cell_type": "markdown",
   "id": "f11e44f5-fc51-457f-93a5-1d933a685cec",
   "metadata": {},
   "source": [
    "### create folders"
   ]
  },
  {
   "cell_type": "code",
   "execution_count": 74,
   "id": "22661d10-7e4e-45ca-825e-5722024fddf4",
   "metadata": {},
   "outputs": [],
   "source": [
    "cv = KFold(n_splits=10,shuffle =True,random_state=seed)\n",
    "cross = cv.split(x)\n",
    "x_train = []\n",
    "x_test = []\n",
    "y_train = []\n",
    "y_test = []\n",
    "for train_i,test_i in cross:\n",
    "    x_train.append(x[train_i])\n",
    "    x_test.append(x[test_i])\n",
    "    y_train.append(y[train_i])\n",
    "    y_test.append(y[test_i])"
   ]
  },
  {
   "cell_type": "markdown",
   "id": "2dcd227a-d810-4ed4-816b-18698dfd703c",
   "metadata": {},
   "source": [
    "### define model"
   ]
  },
  {
   "cell_type": "code",
   "execution_count": 101,
   "id": "327b9bbb-ed3e-4567-b8da-040dcfb8a6e9",
   "metadata": {},
   "outputs": [
    {
     "data": {
      "text/plain": [
       "array([-0.4537628 , -0.99003918, -0.99003918, ..., -2.57783786,\n",
       "       -2.52526174, -2.45165518])"
      ]
     },
     "execution_count": 101,
     "metadata": {},
     "output_type": "execute_result"
    }
   ],
   "source": [
    "x = x_train[0]\n",
    "y = y_train[0]\n",
    "\n",
    "ann = ANN(\"mod\")\n",
    "ann.fit(x.to_numpy().reshape(-1, 1),y)"
   ]
  },
  {
   "cell_type": "code",
   "execution_count": 77,
   "id": "643a3a17-272e-48c9-90b1-2ba2351b3827",
   "metadata": {},
   "outputs": [
    {
     "data": {
      "text/plain": [
       "\u001b[1;31mDocstring:\u001b[0m\n",
       "as_tensor(data, dtype=None, device=None) -> Tensor\n",
       "\n",
       "Converts data into a tensor, sharing data and preserving autograd\n",
       "history if possible.\n",
       "\n",
       "If data is already a tensor with the requeseted dtype and device\n",
       "then data itself is returned, but if data is a\n",
       "tensor with a different dtype or device then it's copied as if using\n",
       "`data.to(dtype=dtype, device=device)`.\n",
       "\n",
       "If data is a NumPy array (an ndarray) with the same dtype and device then a\n",
       "tensor is constructed using :func:`torch.from_numpy`.\n",
       "\n",
       ".. seealso::\n",
       "\n",
       "    :func:`torch.tensor` never shares its data and creates a new \"leaf tensor\" (see :doc:`/notes/autograd`).\n",
       "\n",
       "\n",
       "Args:\n",
       "    data (array_like): Initial data for the tensor. Can be a list, tuple,\n",
       "        NumPy ``ndarray``, scalar, and other types.\n",
       "    dtype (:class:`torch.dtype`, optional): the desired data type of returned tensor.\n",
       "        Default: if ``None``, infers data type from :attr:`data`.\n",
       "    device (:class:`torch.device`, optional): the device of the constructed tensor. If None and data is a tensor\n",
       "        then the device of data is used. If None and data is not a tensor then\n",
       "        the result tensor is constructed on the CPU.\n",
       "\n",
       "\n",
       "Example::\n",
       "\n",
       "    >>> a = numpy.array([1, 2, 3])\n",
       "    >>> t = torch.as_tensor(a)\n",
       "    >>> t\n",
       "    tensor([ 1,  2,  3])\n",
       "    >>> t[0] = -1\n",
       "    >>> a\n",
       "    array([-1,  2,  3])\n",
       "\n",
       "    >>> a = numpy.array([1, 2, 3])\n",
       "    >>> t = torch.as_tensor(a, device=torch.device('cuda'))\n",
       "    >>> t\n",
       "    tensor([ 1,  2,  3])\n",
       "    >>> t[0] = -1\n",
       "    >>> a\n",
       "    array([1,  2,  3])\n",
       "\u001b[1;31mType:\u001b[0m      builtin_function_or_method\n"
      ]
     },
     "metadata": {},
     "output_type": "display_data"
    }
   ],
   "source": [
    "?torch.as_tensor"
   ]
  },
  {
   "cell_type": "code",
   "execution_count": 99,
   "id": "0489e353-1608-4e4e-b0e9-b3aedc7cab68",
   "metadata": {},
   "outputs": [
    {
     "data": {
      "text/plain": [
       "array([62, 64, 66, ..., 25, 25, 24], dtype=int64)"
      ]
     },
     "execution_count": 99,
     "metadata": {},
     "output_type": "execute_result"
    }
   ],
   "source": [
    "np.array(x).reshape(-1, 1).reshape(len(x))"
   ]
  },
  {
   "cell_type": "code",
   "execution_count": 100,
   "id": "3800a530-93f4-4787-899d-feb5aa4c1e9e",
   "metadata": {},
   "outputs": [],
   "source": [
    "class ANN:\n",
    "    def __init__(self,model,random_state=0,intercv = 3,n_jobs = 15,batch_size=16,lr=0.001):\n",
    "        self.random_state = random_state\n",
    "        self.intercv = intercv\n",
    "        self.n_jobs = n_jobs\n",
    "        self.model = model\n",
    "        self.batch_size = batch_size\n",
    "        self.lr = lr\n",
    "        self.scale_x = StandardScaler()\n",
    "        self.scale_y = StandardScaler()\n",
    "\n",
    "    def fit(self, x, y):\n",
    "        x_ = self.scale_x.fit_transform(np.array(x))\n",
    "        y_ = self.scale_y.fit_transform(np.array(y).reshape(-1, 1)).reshape(len(y))\n",
    "        return y_\n",
    "\n",
    "    def predict(self, x):\n",
    "        return self.model.predict(x)\n",
    "    \n",
    "    def predict_proba(self,x):\n",
    "        return self.model.predict_proba(x)\n",
    "    "
   ]
  }
 ],
 "metadata": {
  "kernelspec": {
   "display_name": "Python 3 (ipykernel)",
   "language": "python",
   "name": "python3"
  },
  "language_info": {
   "codemirror_mode": {
    "name": "ipython",
    "version": 3
   },
   "file_extension": ".py",
   "mimetype": "text/x-python",
   "name": "python",
   "nbconvert_exporter": "python",
   "pygments_lexer": "ipython3",
   "version": "3.10.4"
  }
 },
 "nbformat": 4,
 "nbformat_minor": 5
}
