{
 "cells": [
  {
   "cell_type": "code",
   "execution_count": 1,
   "id": "02838d9f-c0dd-4a3b-bfe1-d0e953e3bef2",
   "metadata": {},
   "outputs": [],
   "source": [
    "import pandas as pd\n",
    "import numpy as np\n",
    "import plotly.express as px\n",
    "from sklearn.preprocessing import StandardScaler\n",
    "from sklearn.model_selection import KFold\n",
    "import torch\n",
    "#from \"Tools.py\" import \n",
    "seed=42"
   ]
  },
  {
   "cell_type": "markdown",
   "id": "8680be20-4857-40f6-b6d3-4defcee75fd0",
   "metadata": {},
   "source": [
    "### load dataset"
   ]
  },
  {
   "cell_type": "code",
   "execution_count": 2,
   "id": "776ca380-eedd-4e72-91e5-f18a98cc5a4c",
   "metadata": {},
   "outputs": [],
   "source": [
    "banco = pd.read_csv(\"Life_Expectancy_Data.csv\")\n",
    "x = banco[[\"infant deaths\",\"Year\"]]\n",
    "#x = banco[\"infant deaths\"]\n",
    "y =banco[\"Life expectancy \"]\n",
    "x = x[~y.isna()]\n",
    "y = y[~y.isna()]"
   ]
  },
  {
   "cell_type": "markdown",
   "id": "f11e44f5-fc51-457f-93a5-1d933a685cec",
   "metadata": {},
   "source": [
    "### create folders"
   ]
  },
  {
   "cell_type": "code",
   "execution_count": 3,
   "id": "22661d10-7e4e-45ca-825e-5722024fddf4",
   "metadata": {},
   "outputs": [],
   "source": [
    "cv = KFold(n_splits=10,shuffle =True,random_state=seed)\n",
    "cross = cv.split(x)\n",
    "x_train = []\n",
    "x_test = []\n",
    "y_train = []\n",
    "y_test = []\n",
    "for train_i,test_i in cross:\n",
    "    x_train.append(x.iloc[train_i,:])\n",
    "    x_test.append(x.iloc[test_i,:])\n",
    "    y_train.append(y.iloc[train_i])\n",
    "    y_test.append(y.iloc[test_i])"
   ]
  },
  {
   "cell_type": "code",
   "execution_count": 126,
   "id": "0cb03aae-4bc4-4f8e-af3d-a370deae0349",
   "metadata": {},
   "outputs": [
    {
     "data": {
      "text/html": [
       "<div>\n",
       "<style scoped>\n",
       "    .dataframe tbody tr th:only-of-type {\n",
       "        vertical-align: middle;\n",
       "    }\n",
       "\n",
       "    .dataframe tbody tr th {\n",
       "        vertical-align: top;\n",
       "    }\n",
       "\n",
       "    .dataframe thead th {\n",
       "        text-align: right;\n",
       "    }\n",
       "</style>\n",
       "<table border=\"1\" class=\"dataframe\">\n",
       "  <thead>\n",
       "    <tr style=\"text-align: right;\">\n",
       "      <th></th>\n",
       "      <th>infant deaths</th>\n",
       "      <th>Year</th>\n",
       "    </tr>\n",
       "  </thead>\n",
       "  <tbody>\n",
       "    <tr>\n",
       "      <th>0</th>\n",
       "      <td>62</td>\n",
       "      <td>2015</td>\n",
       "    </tr>\n",
       "    <tr>\n",
       "      <th>1</th>\n",
       "      <td>64</td>\n",
       "      <td>2014</td>\n",
       "    </tr>\n",
       "    <tr>\n",
       "      <th>2</th>\n",
       "      <td>66</td>\n",
       "      <td>2013</td>\n",
       "    </tr>\n",
       "    <tr>\n",
       "      <th>3</th>\n",
       "      <td>69</td>\n",
       "      <td>2012</td>\n",
       "    </tr>\n",
       "    <tr>\n",
       "      <th>4</th>\n",
       "      <td>71</td>\n",
       "      <td>2011</td>\n",
       "    </tr>\n",
       "    <tr>\n",
       "      <th>...</th>\n",
       "      <td>...</td>\n",
       "      <td>...</td>\n",
       "    </tr>\n",
       "    <tr>\n",
       "      <th>2932</th>\n",
       "      <td>28</td>\n",
       "      <td>2005</td>\n",
       "    </tr>\n",
       "    <tr>\n",
       "      <th>2933</th>\n",
       "      <td>27</td>\n",
       "      <td>2004</td>\n",
       "    </tr>\n",
       "    <tr>\n",
       "      <th>2935</th>\n",
       "      <td>25</td>\n",
       "      <td>2002</td>\n",
       "    </tr>\n",
       "    <tr>\n",
       "      <th>2936</th>\n",
       "      <td>25</td>\n",
       "      <td>2001</td>\n",
       "    </tr>\n",
       "    <tr>\n",
       "      <th>2937</th>\n",
       "      <td>24</td>\n",
       "      <td>2000</td>\n",
       "    </tr>\n",
       "  </tbody>\n",
       "</table>\n",
       "<p>2644 rows × 2 columns</p>\n",
       "</div>"
      ],
      "text/plain": [
       "      infant deaths  Year\n",
       "0                62  2015\n",
       "1                64  2014\n",
       "2                66  2013\n",
       "3                69  2012\n",
       "4                71  2011\n",
       "...             ...   ...\n",
       "2932             28  2005\n",
       "2933             27  2004\n",
       "2935             25  2002\n",
       "2936             25  2001\n",
       "2937             24  2000\n",
       "\n",
       "[2644 rows x 2 columns]"
      ]
     },
     "execution_count": 126,
     "metadata": {},
     "output_type": "execute_result"
    }
   ],
   "source": []
  },
  {
   "cell_type": "markdown",
   "id": "2dcd227a-d810-4ed4-816b-18698dfd703c",
   "metadata": {},
   "source": [
    "### define model"
   ]
  },
  {
   "cell_type": "code",
   "execution_count": 9,
   "id": "327b9bbb-ed3e-4567-b8da-040dcfb8a6e9",
   "metadata": {},
   "outputs": [
    {
     "name": "stdout",
     "output_type": "stream",
     "text": [
      "OrderedDict([('weight', tensor([[0.3637, 0.3470]])), ('bias', tensor([0.5233]))])\n",
      "0 : 1.5497709512710571\n",
      "1 : 1.5472819805145264\n",
      "2 : 1.5447990894317627\n",
      "3 : 1.5423223972320557\n",
      "4 : 1.5398517847061157\n",
      "5 : 1.537387728691101\n",
      "6 : 1.5349301099777222\n",
      "7 : 1.5324785709381104\n",
      "8 : 1.530034065246582\n",
      "9 : 1.5275959968566895\n"
     ]
    },
    {
     "data": {
      "text/plain": [
       "<__main__.ANN at 0x1bdc8f09930>"
      ]
     },
     "execution_count": 9,
     "metadata": {},
     "output_type": "execute_result"
    }
   ],
   "source": [
    "x = x_train[0]\n",
    "y = y_train[0]\n",
    "model = torch.nn.Linear(2,1)\n",
    "ann = ANN(model)\n",
    "a = ann.fit(x,y)\n",
    "a"
   ]
  },
  {
   "cell_type": "code",
   "execution_count": 232,
   "id": "0489e353-1608-4e4e-b0e9-b3aedc7cab68",
   "metadata": {},
   "outputs": [
    {
     "data": {
      "text/plain": [
       "torch.Size([128, 20])"
      ]
     },
     "execution_count": 232,
     "metadata": {},
     "output_type": "execute_result"
    }
   ],
   "source": [
    "torch.randn(128, 20).shape"
   ]
  },
  {
   "cell_type": "code",
   "execution_count": 241,
   "id": "63014354-9eb0-4322-bc5f-1fee05fb2ea8",
   "metadata": {},
   "outputs": [],
   "source": [
    "model = torch.nn.Sequential(torch.nn.Linear(2,1))\n",
    "yhat = model(a.x)\n",
    "yhat = yhat.view(len(yhat))"
   ]
  },
  {
   "cell_type": "code",
   "execution_count": 243,
   "id": "871cc984-afe0-40b0-81fd-822114331fb7",
   "metadata": {},
   "outputs": [
    {
     "data": {
      "text/plain": [
       "torch.Size([2379])"
      ]
     },
     "execution_count": 243,
     "metadata": {},
     "output_type": "execute_result"
    }
   ],
   "source": [
    "yhat.shape\n"
   ]
  },
  {
   "cell_type": "code",
   "execution_count": 285,
   "id": "6a40e9e9-17b8-4d16-9663-3995379f704e",
   "metadata": {},
   "outputs": [
    {
     "data": {
      "text/plain": [
       "tensor(nan, grad_fn=<MseLossBackward0>)"
      ]
     },
     "execution_count": 285,
     "metadata": {},
     "output_type": "execute_result"
    }
   ],
   "source": [
    "loss_fn = torch.nn.MSELoss(reduction=\"mean\")\n",
    "loss = loss_fn(yhat[:506],a.y[:506])\n",
    "loss"
   ]
  },
  {
   "cell_type": "code",
   "execution_count": 287,
   "id": "3dd4c504-4946-49b1-8d64-1b3e36adaa97",
   "metadata": {},
   "outputs": [
    {
     "data": {
      "text/plain": [
       "0      65.0\n",
       "1      59.9\n",
       "2      59.9\n",
       "3      59.5\n",
       "4      59.2\n",
       "       ... \n",
       "620    53.2\n",
       "621    52.6\n",
       "622    52.7\n",
       "623    52.9\n",
       "624     NaN\n",
       "Name: Life expectancy , Length: 506, dtype: float64"
      ]
     },
     "execution_count": 287,
     "metadata": {},
     "output_type": "execute_result"
    }
   ],
   "source": [
    "y[:506]"
   ]
  },
  {
   "cell_type": "code",
   "execution_count": 98,
   "id": "36bf9b0c-fbbc-4375-9ced-283e44a894eb",
   "metadata": {},
   "outputs": [
    {
     "data": {
      "text/plain": [
       "0.3163611590862274"
      ]
     },
     "execution_count": 98,
     "metadata": {},
     "output_type": "execute_result"
    }
   ],
   "source": [
    "a.loss_fn(a.model(a.x).view(len(a.x)),a.y).item()"
   ]
  },
  {
   "cell_type": "code",
   "execution_count": 8,
   "id": "3800a530-93f4-4787-899d-feb5aa4c1e9e",
   "metadata": {},
   "outputs": [],
   "source": [
    "class ANN:\n",
    "    def __init__(self,model,seed=0,intercv = 3,n_epoch=10,batch_size=64,lr=0.001, device = \"cpu\"):\n",
    "        self.seed = seed\n",
    "        self.intercv = intercv\n",
    "        self.model = model\n",
    "        self.batch_size = batch_size\n",
    "        self.lr = lr\n",
    "        self.scale_x = StandardScaler()\n",
    "        self.scale_y = StandardScaler()\n",
    "        self.device = device\n",
    "        self.n_epoch = n_epoch\n",
    "        self.losses = []\n",
    "        self.optim = torch.optim.Adam(model.parameters(),lr=self.lr)\n",
    "        self.loss_fn = torch.nn.MSELoss(reduction=\"mean\")\n",
    "        self.model.dtype = torch.float\n",
    "\n",
    "    def fit(self, x, y):\n",
    "        x_ = self.scale_x.fit_transform(np.array(x))\n",
    "        y_ = self.scale_y.fit_transform(np.array(y).reshape(-1, 1)).reshape(len(y))\n",
    "        x_ = x_.copy()\n",
    "        y_ = y_.copy()\n",
    "        x_ = torch.as_tensor(x_,dtype=torch.float)\n",
    "        y_ = torch.as_tensor(y_,dtype=torch.float)\n",
    "        torch.manual_seed = self.seed\n",
    "        #train = torch.utils.data.TensorDataset(x_,y_)\n",
    "        #train = torch.utils.data.DataLoader(dataset=train,batch_size=self.batch_size,shuffle=True)\n",
    "        self.x = x_\n",
    "        self.y = y_\n",
    "        print(self.model.state_dict())\n",
    "        self._train(x_,y_)\n",
    "           # self.losses.append(np.mean(mini_batch_loss))\n",
    "           # if epoch%100==0:\n",
    "           #     print(str(epoch) + \" erro = \" + str(self.losses[epoch]))\n",
    "                \n",
    "        \n",
    "        return self\n",
    "    \n",
    "    def _train(self,x,y):\n",
    "        self.model.train()\n",
    "        for epoch in range(self.n_epoch):\n",
    "            self.x = x\n",
    "            self.yhat = self.model(x)\n",
    "            loss = self.loss_fn(self.yhat.view(len(self.yhat)),y)\n",
    "            self.losses.append(loss.item())\n",
    "            loss.backward()\n",
    "            self.optim.step()\n",
    "            self.optim.zero_grad()\n",
    "            print(str(epoch) + \" : \"+ str(loss.item()))\n",
    "\n",
    "    def predict(self, x):\n",
    "        return self.model.predict(x)\n",
    "    \n",
    "    def predict_proba(self,x):\n",
    "        return self.model.predict_proba(x)\n",
    "    "
   ]
  },
  {
   "cell_type": "code",
   "execution_count": 56,
   "id": "de4a601d-61d3-48bf-9354-d1ca75b4e006",
   "metadata": {},
   "outputs": [],
   "source": [
    "model = torch.nn.Linear(1,1)\n",
    "optim = torch.optim.Adam(model.parameters(),lr=self.lr)"
   ]
  },
  {
   "cell_type": "code",
   "execution_count": 59,
   "id": "472fd6ef-938d-40a3-af11-286ec7c9cbf9",
   "metadata": {},
   "outputs": [
    {
     "ename": "NameError",
     "evalue": "name 'x_' is not defined",
     "output_type": "error",
     "traceback": [
      "\u001b[1;31m---------------------------------------------------------------------------\u001b[0m",
      "\u001b[1;31mNameError\u001b[0m                                 Traceback (most recent call last)",
      "\u001b[1;32m~\\AppData\\Local\\Temp\\ipykernel_7940\\982368354.py\u001b[0m in \u001b[0;36m<cell line: 1>\u001b[1;34m()\u001b[0m\n\u001b[1;32m----> 1\u001b[1;33m \u001b[0mmodel\u001b[0m\u001b[1;33m(\u001b[0m\u001b[0mtorch\u001b[0m\u001b[1;33m.\u001b[0m\u001b[0mtensor\u001b[0m\u001b[1;33m(\u001b[0m\u001b[0mx_\u001b[0m\u001b[1;33m)\u001b[0m\u001b[1;33m)\u001b[0m\u001b[1;33m\u001b[0m\u001b[1;33m\u001b[0m\u001b[0m\n\u001b[0m",
      "\u001b[1;31mNameError\u001b[0m: name 'x_' is not defined"
     ]
    }
   ],
   "source": []
  }
 ],
 "metadata": {
  "kernelspec": {
   "display_name": "Python 3 (ipykernel)",
   "language": "python",
   "name": "python3"
  },
  "language_info": {
   "codemirror_mode": {
    "name": "ipython",
    "version": 3
   },
   "file_extension": ".py",
   "mimetype": "text/x-python",
   "name": "python",
   "nbconvert_exporter": "python",
   "pygments_lexer": "ipython3",
   "version": "3.10.4"
  }
 },
 "nbformat": 4,
 "nbformat_minor": 5
}
